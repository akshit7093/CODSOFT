{
  "metadata": {
    "kernelspec": {
      "display_name": "Python 3",
      "name": "python3"
    },
    "language_info": {
      "name": "python",
      "version": "3.10.14",
      "mimetype": "text/x-python",
      "codemirror_mode": {
        "name": "ipython",
        "version": 3
      },
      "pygments_lexer": "ipython3",
      "nbconvert_exporter": "python",
      "file_extension": ".py"
    },
    "kaggle": {
      "accelerator": "none",
      "dataSources": [
        {
          "sourceId": 2347441,
          "sourceType": "datasetVersion",
          "datasetId": 1417162
        }
      ],
      "dockerImageVersionId": 30761,
      "isInternetEnabled": false,
      "language": "python",
      "sourceType": "notebook",
      "isGpuEnabled": false
    },
    "colab": {
      "name": "MOVIE GENRE CLASSIFICATION",
      "provenance": [],
      "gpuType": "T4",
      "include_colab_link": true
    },
    "accelerator": "GPU"
  },
  "nbformat_minor": 0,
  "nbformat": 4,
  "cells": [
    {
      "cell_type": "markdown",
      "metadata": {
        "id": "view-in-github",
        "colab_type": "text"
      },
      "source": [
        "<a href=\"https://colab.research.google.com/github/akshit7093/CODSOFT/blob/main/MOVIE_GENRE_CLASSIFICATION.ipynb\" target=\"_parent\"><img src=\"https://colab.research.google.com/assets/colab-badge.svg\" alt=\"Open In Colab\"/></a>"
      ]
    },
    {
      "source": [
        "\n",
        "# IMPORTANT: RUN THIS CELL IN ORDER TO IMPORT YOUR KAGGLE DATA SOURCES\n",
        "# TO THE CORRECT LOCATION (/kaggle/input) IN YOUR NOTEBOOK,\n",
        "# THEN FEEL FREE TO DELETE THIS CELL.\n",
        "# NOTE: THIS NOTEBOOK ENVIRONMENT DIFFERS FROM KAGGLE'S PYTHON\n",
        "# ENVIRONMENT SO THERE MAY BE MISSING LIBRARIES USED BY YOUR\n",
        "# NOTEBOOK.\n",
        "\n",
        "import os\n",
        "import sys\n",
        "from tempfile import NamedTemporaryFile\n",
        "from urllib.request import urlopen\n",
        "from urllib.parse import unquote, urlparse\n",
        "from urllib.error import HTTPError\n",
        "from zipfile import ZipFile\n",
        "import tarfile\n",
        "import shutil\n",
        "\n",
        "CHUNK_SIZE = 40960\n",
        "DATA_SOURCE_MAPPING = 'genre-classification-dataset-imdb:https%3A%2F%2Fstorage.googleapis.com%2Fkaggle-data-sets%2F1417162%2F2347441%2Fbundle%2Farchive.zip%3FX-Goog-Algorithm%3DGOOG4-RSA-SHA256%26X-Goog-Credential%3Dgcp-kaggle-com%2540kaggle-161607.iam.gserviceaccount.com%252F20240903%252Fauto%252Fstorage%252Fgoog4_request%26X-Goog-Date%3D20240903T180413Z%26X-Goog-Expires%3D259200%26X-Goog-SignedHeaders%3Dhost%26X-Goog-Signature%3D1fa70d12234f6cc87ee870875380f0055c21db190b5e892c67275c1d2f3e2247b28755ee3c35f831205e6f4771d72dde3c7a4612771c65f0cabe4b0ab860eb78640048ee6a3838b2d9981cd2340f933d0c6af178aae5e146f1ff5ee878c1227b9350f18ba674a245d2e34836925b5aa424631b0ab0cb1b26cf7e802a6846424e06e585e54dfbc53930bc52fcc708674b07243d0d35ec3b32f1aad7eea4897569e37d6f97d48dee33adf617ec299ae2872b183be053f5120c09d10db98a473575a933d9e25b8fd76aeee79f5f42ebb6d228abd9315743ca4eaef6123404f0c4736b941f78cd4db339c48d62cbd1dc666d540817e511767eba6b8a21ced814ae47'\n",
        "\n",
        "KAGGLE_INPUT_PATH='/kaggle/input'\n",
        "KAGGLE_WORKING_PATH='/kaggle/working'\n",
        "KAGGLE_SYMLINK='kaggle'\n",
        "\n",
        "!umount /kaggle/input/ 2> /dev/null\n",
        "shutil.rmtree('/kaggle/input', ignore_errors=True)\n",
        "os.makedirs(KAGGLE_INPUT_PATH, 0o777, exist_ok=True)\n",
        "os.makedirs(KAGGLE_WORKING_PATH, 0o777, exist_ok=True)\n",
        "\n",
        "try:\n",
        "  os.symlink(KAGGLE_INPUT_PATH, os.path.join(\"..\", 'input'), target_is_directory=True)\n",
        "except FileExistsError:\n",
        "  pass\n",
        "try:\n",
        "  os.symlink(KAGGLE_WORKING_PATH, os.path.join(\"..\", 'working'), target_is_directory=True)\n",
        "except FileExistsError:\n",
        "  pass\n",
        "\n",
        "for data_source_mapping in DATA_SOURCE_MAPPING.split(','):\n",
        "    directory, download_url_encoded = data_source_mapping.split(':')\n",
        "    download_url = unquote(download_url_encoded)\n",
        "    filename = urlparse(download_url).path\n",
        "    destination_path = os.path.join(KAGGLE_INPUT_PATH, directory)\n",
        "    try:\n",
        "        with urlopen(download_url) as fileres, NamedTemporaryFile() as tfile:\n",
        "            total_length = fileres.headers['content-length']\n",
        "            print(f'Downloading {directory}, {total_length} bytes compressed')\n",
        "            dl = 0\n",
        "            data = fileres.read(CHUNK_SIZE)\n",
        "            while len(data) > 0:\n",
        "                dl += len(data)\n",
        "                tfile.write(data)\n",
        "                done = int(50 * dl / int(total_length))\n",
        "                sys.stdout.write(f\"\\r[{'=' * done}{' ' * (50-done)}] {dl} bytes downloaded\")\n",
        "                sys.stdout.flush()\n",
        "                data = fileres.read(CHUNK_SIZE)\n",
        "            if filename.endswith('.zip'):\n",
        "              with ZipFile(tfile) as zfile:\n",
        "                zfile.extractall(destination_path)\n",
        "            else:\n",
        "              with tarfile.open(tfile.name) as tarfile:\n",
        "                tarfile.extractall(destination_path)\n",
        "            print(f'\\nDownloaded and uncompressed: {directory}')\n",
        "    except HTTPError as e:\n",
        "        print(f'Failed to load (likely expired) {download_url} to path {destination_path}')\n",
        "        continue\n",
        "    except OSError as e:\n",
        "        print(f'Failed to load {download_url} to path {destination_path}')\n",
        "        continue\n",
        "\n",
        "print('Data source import complete.')\n"
      ],
      "metadata": {
        "colab": {
          "base_uri": "https://localhost:8080/"
        },
        "id": "_h31DP-OHqx1",
        "outputId": "e7934b7f-cf99-46dd-a0a4-19084a55bd2f"
      },
      "cell_type": "code",
      "outputs": [
        {
          "output_type": "stream",
          "name": "stdout",
          "text": [
            "Downloading genre-classification-dataset-imdb, 43729690 bytes compressed\n",
            "[==================================================] 43729690 bytes downloaded\n",
            "Downloaded and uncompressed: genre-classification-dataset-imdb\n",
            "Data source import complete.\n"
          ]
        }
      ],
      "execution_count": 1
    },
    {
      "cell_type": "markdown",
      "source": [
        "# MOVIE GENRE CLASSIFICATION"
      ],
      "metadata": {
        "id": "PtG5Fw22Hqx2"
      }
    },
    {
      "cell_type": "markdown",
      "source": [
        "Importing Libraries\n"
      ],
      "metadata": {
        "id": "-Lqn6mYQHqx3"
      }
    },
    {
      "cell_type": "code",
      "source": [
        "import nltk\n",
        "import string\n",
        "import re\n",
        "\n",
        "import pandas as pd\n",
        "import numpy as np\n",
        "import matplotlib.pyplot as plt\n",
        "import seaborn as sns\n",
        "\n",
        "from nltk.corpus import stopwords\n",
        "from nltk.tokenize import word_tokenize\n",
        "from nltk.stem import LancasterStemmer\n",
        "\n",
        "from sklearn.feature_extraction.text import TfidfVectorizer\n",
        "from sklearn.model_selection import train_test_split\n",
        "from sklearn.naive_bayes import MultinomialNB\n",
        "from sklearn.svm import SVC\n",
        "from sklearn.ensemble import RandomForestClassifier, VotingClassifier\n",
        "from sklearn.neural_network import MLPClassifier\n",
        "from sklearn.metrics import accuracy_score, classification_report\n",
        "from sklearn.model_selection import GridSearchCV\n",
        "from sklearn.preprocessing import MinMaxScaler\n",
        "\n",
        "from gensim.models import Word2Vec\n",
        "from tensorflow.keras.preprocessing.text import Tokenizer\n",
        "from tensorflow.keras.preprocessing.sequence import pad_sequences\n",
        "from tensorflow.keras.models import Sequential\n",
        "from tensorflow.keras.layers import Embedding, LSTM, Dense, Dropout, Bidirectional\n",
        "\n",
        "\n",
        "nltk.download('stopwords')\n",
        "nltk.download('punkt')"
      ],
      "metadata": {
        "execution": {
          "iopub.status.busy": "2024-09-01T07:55:37.72917Z",
          "iopub.execute_input": "2024-09-01T07:55:37.729728Z",
          "iopub.status.idle": "2024-09-01T07:55:40.419405Z",
          "shell.execute_reply.started": "2024-09-01T07:55:37.729677Z",
          "shell.execute_reply": "2024-09-01T07:55:40.418035Z"
        },
        "trusted": true,
        "colab": {
          "base_uri": "https://localhost:8080/"
        },
        "id": "T80DTlaiHqx4",
        "outputId": "2d93d58b-2666-4bca-b522-ef406c3c5eeb"
      },
      "execution_count": 13,
      "outputs": [
        {
          "output_type": "stream",
          "name": "stderr",
          "text": [
            "[nltk_data] Downloading package stopwords to /root/nltk_data...\n",
            "[nltk_data]   Package stopwords is already up-to-date!\n",
            "[nltk_data] Downloading package punkt to /root/nltk_data...\n",
            "[nltk_data]   Package punkt is already up-to-date!\n"
          ]
        },
        {
          "output_type": "execute_result",
          "data": {
            "text/plain": [
              "True"
            ]
          },
          "metadata": {},
          "execution_count": 13
        }
      ]
    },
    {
      "cell_type": "markdown",
      "source": [
        "# ***Step 2: Load and Explore the Datat***"
      ],
      "metadata": {
        "id": "ckwtncbhiKuu"
      }
    },
    {
      "cell_type": "code",
      "source": [
        "# Training Data\n",
        "train_data = pd.read_csv('/kaggle/input/genre-classification-dataset-imdb/Genre Classification Dataset/train_data.txt', sep=':::', names=['Movie_title', 'Genre', 'Description'], engine='python')\n",
        "train_data.describe()\n",
        "train_data.shape\n",
        "train_data.info()\n",
        "train_data.head(10)\n",
        "train_data.isnull().sum()\n",
        "\n",
        "# Test Data\n",
        "test_path = \"/kaggle/input/genre-classification-dataset-imdb/Genre Classification Dataset/test_data.txt\"\n",
        "test_data = pd.read_csv(test_path, sep=':::', names=['Id', 'Movie_title', 'Description'], engine='python')\n",
        "test_data.head()\n",
        "\n",
        "# Distribution of genres in training data\n",
        "plt.figure(figsize=(10,10))\n",
        "sns.countplot(data=train_data, order=train_data[\"Genre\"].value_counts().index, y=\"Genre\")\n",
        "plt.title(\"Genre Distribution\")\n"
      ],
      "metadata": {
        "colab": {
          "base_uri": "https://localhost:8080/",
          "height": 1000
        },
        "id": "tzINuazSIM18",
        "outputId": "24c28dc3-95a1-44f4-d3d9-83650ba500fd"
      },
      "execution_count": 3,
      "outputs": [
        {
          "output_type": "stream",
          "name": "stdout",
          "text": [
            "<class 'pandas.core.frame.DataFrame'>\n",
            "Index: 54214 entries, 1 to 54214\n",
            "Data columns (total 3 columns):\n",
            " #   Column       Non-Null Count  Dtype \n",
            "---  ------       --------------  ----- \n",
            " 0   Movie_title  54214 non-null  object\n",
            " 1   Genre        54214 non-null  object\n",
            " 2   Description  54214 non-null  object\n",
            "dtypes: object(3)\n",
            "memory usage: 1.7+ MB\n"
          ]
        },
        {
          "output_type": "execute_result",
          "data": {
            "text/plain": [
              "Text(0.5, 1.0, 'Genre Distribution')"
            ]
          },
          "metadata": {},
          "execution_count": 3
        },
        {
          "output_type": "display_data",
          "data": {
            "text/plain": [
              "<Figure size 1000x1000 with 1 Axes>"
            ],
            "image/png": "[encoded data removed]"
          },
          "metadata": {}
        }
      ]
    },
    {
      "cell_type": "code",
      "source": [
        "stemmer = LancasterStemmer()\n",
        "stop_words = stopwords.words(\"english\")\n",
        "\n",
        "# Define the clean_text function\n",
        "def clean_text(text):\n",
        "    text = text.lower()  # Lowercase all characters\n",
        "    text = re.sub(r'@\\S+', '', text)  # Remove Twitter handles and email addresses\n",
        "    text = re.sub(r'http\\S+', '', text)  # Remove URLs\n",
        "    text = re.sub(r\"[^a-zA-Z+']\", ' ', text)  # Remove special characters\n",
        "    words = nltk.word_tokenize(text)  # Tokenize text\n",
        "    text = \" \".join([i for i in words if i not in stop_words and len(i) > 2])  # Remove stopwords\n",
        "    text = re.sub(\"\\s[\\s]+\", \" \", text).strip()  # Remove multiple spaces\n",
        "    return text\n",
        "\n",
        "# Apply the clean_text function to the 'Description' column in the training and test data\n",
        "train_data['New_text'] = train_data['Description'].apply(clean_text)\n",
        "test_data['New_text'] = test_data['Description'].apply(clean_text)\n"
      ],
      "metadata": {
        "id": "FlOpGB-wIO2r"
      },
      "execution_count": 9,
      "outputs": []
    },
    {
      "cell_type": "code",
      "source": [
        "# Tokenize the text for Word2Vec\n",
        "tokenized_train = [nltk.word_tokenize(text) for text in train_data['New_text']]\n",
        "tokenized_test = [nltk.word_tokenize(text) for text in test_data['New_text']]\n",
        "\n",
        "# Train a Word2Vec model\n",
        "word2vec = Word2Vec(sentences=tokenized_train, vector_size=100, window=5, min_count=2, workers=4)\n",
        "word2vec.build_vocab(tokenized_test, update=True)\n",
        "word2vec.train(tokenized_test, total_examples=len(tokenized_test), epochs=5)\n",
        "\n",
        "# Function to get the average word vectors for each document\n",
        "def get_avg_word2vec(tokens_list, vector, k=100):\n",
        "    vec = np.zeros(k)\n",
        "    count = 0\n",
        "    for word in tokens_list:\n",
        "        try:\n",
        "            vec += vector[word]\n",
        "            count += 1\n",
        "        except KeyError:  # handling the case where the token is not in the vocabulary\n",
        "            continue\n",
        "    if count != 0:\n",
        "        vec /= count\n",
        "    return vec\n",
        "\n",
        "# Create the word vectors for the training and test sets\n",
        "X_train_word2vec = np.array([get_avg_word2vec(tokens, word2vec.wv, 100) for tokens in tokenized_train])\n",
        "X_test_word2vec = np.array([get_avg_word2vec(tokens, word2vec.wv, 100) for tokens in tokenized_test])\n"
      ],
      "metadata": {
        "colab": {
          "base_uri": "https://localhost:8080/"
        },
        "id": "Kldofvp7IQu1",
        "outputId": "18b74eee-4411-4582-d221-9d0a1b6580ec"
      },
      "execution_count": 10,
      "outputs": [
        {
          "output_type": "stream",
          "name": "stderr",
          "text": [
            "WARNING:gensim.models.word2vec:Effective 'alpha' higher than previous training cycles\n"
          ]
        }
      ]
    },
    {
      "cell_type": "code",
      "source": [
        "# Split the data into training and validation sets\n",
        "X = X_train_word2vec\n",
        "y = train_data['Genre']\n",
        "X_train, X_val, y_train, y_val = train_test_split(X, y, test_size=0.2, random_state=42)\n"
      ],
      "metadata": {
        "id": "vDjuZRAEISbT"
      },
      "execution_count": 11,
      "outputs": []
    },
    {
      "cell_type": "code",
      "source": [
        "# Scale the word vectors to the range [0, 1]\n",
        "scaler = MinMaxScaler()\n",
        "X_train_scaled = scaler.fit_transform(X_train)\n",
        "X_val_scaled = scaler.transform(X_val)  # Use the same scaler fitted on training data\n",
        "\n",
        "# Train the Multinomial Naive Bayes model on the scaled data\n",
        "nb = MultinomialNB()\n",
        "nb.fit(X_train_scaled, y_train)\n",
        "\n",
        "# Predict on the validation set (also scaled)\n",
        "y_pred_nb = nb.predict(X_val_scaled)\n",
        "\n",
        "print(\"Naive Bayes Validation Accuracy:\", accuracy_score(y_val, y_pred_nb))\n",
        "print(classification_report(y_val, y_pred_nb))"
      ],
      "metadata": {
        "colab": {
          "base_uri": "https://localhost:8080/"
        },
        "id": "Gg2veEINIUHz",
        "outputId": "2751edc0-d30a-4159-9539-90122b8056a4"
      },
      "execution_count": 14,
      "outputs": [
        {
          "output_type": "stream",
          "name": "stdout",
          "text": [
            "Naive Bayes Validation Accuracy: 0.4275569491838052\n"
          ]
        },
        {
          "output_type": "stream",
          "name": "stderr",
          "text": [
            "/usr/local/lib/python3.10/dist-packages/sklearn/metrics/_classification.py:1471: UndefinedMetricWarning: Precision and F-score are ill-defined and being set to 0.0 in labels with no predicted samples. Use `zero_division` parameter to control this behavior.\n",
            "  _warn_prf(average, modifier, msg_start, len(result))\n"
          ]
        },
        {
          "output_type": "stream",
          "name": "stdout",
          "text": [
            "               precision    recall  f1-score   support\n",
            "\n",
            "      action        0.00      0.00      0.00       263\n",
            "       adult        0.00      0.00      0.00       112\n",
            "   adventure        0.00      0.00      0.00       139\n",
            "   animation        0.00      0.00      0.00       104\n",
            "   biography        0.00      0.00      0.00        61\n",
            "      comedy        0.00      0.00      0.00      1443\n",
            "       crime        0.00      0.00      0.00       107\n",
            " documentary        0.52      0.87      0.65      2659\n",
            "       drama        0.36      0.86      0.51      2697\n",
            "      family        0.00      0.00      0.00       150\n",
            "     fantasy        0.00      0.00      0.00        74\n",
            "   game-show        0.00      0.00      0.00        40\n",
            "     history        0.00      0.00      0.00        45\n",
            "      horror        0.00      0.00      0.00       431\n",
            "       music        0.00      0.00      0.00       144\n",
            "     musical        0.00      0.00      0.00        50\n",
            "     mystery        0.00      0.00      0.00        56\n",
            "        news        0.00      0.00      0.00        34\n",
            "  reality-tv        0.00      0.00      0.00       192\n",
            "     romance        0.00      0.00      0.00       151\n",
            "      sci-fi        0.00      0.00      0.00       143\n",
            "       short        0.00      0.00      0.00      1045\n",
            "       sport        0.00      0.00      0.00        93\n",
            "   talk-show        0.00      0.00      0.00        81\n",
            "    thriller        0.00      0.00      0.00       309\n",
            "         war        0.00      0.00      0.00        20\n",
            "     western        0.00      0.00      0.00       200\n",
            "\n",
            "     accuracy                           0.43     10843\n",
            "    macro avg       0.03      0.06      0.04     10843\n",
            " weighted avg       0.22      0.43      0.29     10843\n",
            "\n"
          ]
        },
        {
          "output_type": "stream",
          "name": "stderr",
          "text": [
            "/usr/local/lib/python3.10/dist-packages/sklearn/metrics/_classification.py:1471: UndefinedMetricWarning: Precision and F-score are ill-defined and being set to 0.0 in labels with no predicted samples. Use `zero_division` parameter to control this behavior.\n",
            "  _warn_prf(average, modifier, msg_start, len(result))\n",
            "/usr/local/lib/python3.10/dist-packages/sklearn/metrics/_classification.py:1471: UndefinedMetricWarning: Precision and F-score are ill-defined and being set to 0.0 in labels with no predicted samples. Use `zero_division` parameter to control this behavior.\n",
            "  _warn_prf(average, modifier, msg_start, len(result))\n"
          ]
        }
      ]
    },
    {
      "cell_type": "code",
      "source": [
        "rf = RandomForestClassifier(n_estimators=100, random_state=42)\n",
        "rf.fit(X_train, y_train)\n",
        "y_pred_rf = rf.predict(X_val)\n",
        "\n",
        "print(\"Random Forest Validation Accuracy:\", accuracy_score(y_val, y_pred_rf))\n",
        "print(classification_report(y_val, y_pred_rf))\n"
      ],
      "metadata": {
        "colab": {
          "base_uri": "https://localhost:8080/"
        },
        "id": "oCiEv0QIIVe7",
        "outputId": "2da30ca5-4254-4f89-c6de-e15f7ec5e225"
      },
      "execution_count": 15,
      "outputs": [
        {
          "output_type": "stream",
          "name": "stdout",
          "text": [
            "Random Forest Validation Accuracy: 0.5228257862215254\n"
          ]
        },
        {
          "output_type": "stream",
          "name": "stderr",
          "text": [
            "/usr/local/lib/python3.10/dist-packages/sklearn/metrics/_classification.py:1471: UndefinedMetricWarning: Precision and F-score are ill-defined and being set to 0.0 in labels with no predicted samples. Use `zero_division` parameter to control this behavior.\n",
            "  _warn_prf(average, modifier, msg_start, len(result))\n",
            "/usr/local/lib/python3.10/dist-packages/sklearn/metrics/_classification.py:1471: UndefinedMetricWarning: Precision and F-score are ill-defined and being set to 0.0 in labels with no predicted samples. Use `zero_division` parameter to control this behavior.\n",
            "  _warn_prf(average, modifier, msg_start, len(result))\n"
          ]
        },
        {
          "output_type": "stream",
          "name": "stdout",
          "text": [
            "               precision    recall  f1-score   support\n",
            "\n",
            "      action        0.39      0.15      0.22       263\n",
            "       adult        0.62      0.04      0.08       112\n",
            "   adventure        0.32      0.05      0.09       139\n",
            "   animation        0.00      0.00      0.00       104\n",
            "   biography        0.00      0.00      0.00        61\n",
            "      comedy        0.42      0.49      0.45      1443\n",
            "       crime        0.50      0.01      0.02       107\n",
            " documentary        0.60      0.88      0.71      2659\n",
            "       drama        0.48      0.76      0.59      2697\n",
            "      family        0.80      0.03      0.05       150\n",
            "     fantasy        0.00      0.00      0.00        74\n",
            "   game-show        0.86      0.47      0.61        40\n",
            "     history        0.00      0.00      0.00        45\n",
            "      horror        0.52      0.34      0.41       431\n",
            "       music        0.61      0.30      0.40       144\n",
            "     musical        0.00      0.00      0.00        50\n",
            "     mystery        0.00      0.00      0.00        56\n",
            "        news        1.00      0.03      0.06        34\n",
            "  reality-tv        0.48      0.06      0.11       192\n",
            "     romance        0.00      0.00      0.00       151\n",
            "      sci-fi        0.54      0.10      0.18       143\n",
            "       short        0.52      0.12      0.20      1045\n",
            "       sport        0.60      0.13      0.21        93\n",
            "   talk-show        0.50      0.06      0.11        81\n",
            "    thriller        0.41      0.03      0.05       309\n",
            "         war        1.00      0.05      0.10        20\n",
            "     western        0.78      0.67      0.72       200\n",
            "\n",
            "     accuracy                           0.52     10843\n",
            "    macro avg       0.44      0.18      0.20     10843\n",
            " weighted avg       0.50      0.52      0.46     10843\n",
            "\n"
          ]
        },
        {
          "output_type": "stream",
          "name": "stderr",
          "text": [
            "/usr/local/lib/python3.10/dist-packages/sklearn/metrics/_classification.py:1471: UndefinedMetricWarning: Precision and F-score are ill-defined and being set to 0.0 in labels with no predicted samples. Use `zero_division` parameter to control this behavior.\n",
            "  _warn_prf(average, modifier, msg_start, len(result))\n"
          ]
        }
      ]
    },
    {
      "cell_type": "code",
      "source": [
        "mlp = MLPClassifier(hidden_layer_sizes=(128, 64), max_iter=10, alpha=1e-4,\n",
        "                    solver='adam', verbose=1, random_state=42, tol=1e-4)\n",
        "mlp.fit(X_train, y_train)\n",
        "y_pred_mlp = mlp.predict(X_val)\n",
        "\n",
        "print(\"MLP Validation Accuracy:\", accuracy_score(y_val, y_pred_mlp))\n",
        "print(classification_report(y_val, y_pred_mlp))\n"
      ],
      "metadata": {
        "colab": {
          "base_uri": "https://localhost:8080/"
        },
        "id": "bzicQ82mLIgT",
        "outputId": "4dd4155c-2064-4ab3-eae6-88e3d640d0f1"
      },
      "execution_count": 17,
      "outputs": [
        {
          "output_type": "stream",
          "name": "stdout",
          "text": [
            "Iteration 1, loss = 1.84521354\n",
            "Iteration 2, loss = 1.51001985\n",
            "Iteration 3, loss = 1.44529521\n",
            "Iteration 4, loss = 1.41471753\n",
            "Iteration 5, loss = 1.39802238\n",
            "Iteration 6, loss = 1.37786394\n",
            "Iteration 7, loss = 1.36607568\n",
            "Iteration 8, loss = 1.35255083\n",
            "Iteration 9, loss = 1.34339891\n",
            "Iteration 10, loss = 1.33224826\n",
            "MLP Validation Accuracy: 0.572904177810569\n"
          ]
        },
        {
          "output_type": "stream",
          "name": "stderr",
          "text": [
            "/usr/local/lib/python3.10/dist-packages/sklearn/neural_network/_multilayer_perceptron.py:691: ConvergenceWarning: Stochastic Optimizer: Maximum iterations (10) reached and the optimization hasn't converged yet.\n",
            "  warnings.warn(\n",
            "/usr/local/lib/python3.10/dist-packages/sklearn/metrics/_classification.py:1471: UndefinedMetricWarning: Precision and F-score are ill-defined and being set to 0.0 in labels with no predicted samples. Use `zero_division` parameter to control this behavior.\n",
            "  _warn_prf(average, modifier, msg_start, len(result))\n"
          ]
        },
        {
          "output_type": "stream",
          "name": "stdout",
          "text": [
            "               precision    recall  f1-score   support\n",
            "\n",
            "      action        0.33      0.29      0.31       263\n",
            "       adult        0.49      0.37      0.42       112\n",
            "   adventure        0.28      0.12      0.16       139\n",
            "   animation        0.34      0.13      0.19       104\n",
            "   biography        0.00      0.00      0.00        61\n",
            "      comedy        0.49      0.58      0.53      1443\n",
            "       crime        0.33      0.03      0.05       107\n",
            " documentary        0.68      0.85      0.76      2659\n",
            "       drama        0.56      0.73      0.64      2697\n",
            "      family        0.42      0.09      0.15       150\n",
            "     fantasy        0.31      0.05      0.09        74\n",
            "   game-show        0.76      0.55      0.64        40\n",
            "     history        0.00      0.00      0.00        45\n",
            "      horror        0.52      0.65      0.58       431\n",
            "       music        0.55      0.53      0.54       144\n",
            "     musical        0.00      0.00      0.00        50\n",
            "     mystery        0.00      0.00      0.00        56\n",
            "        news        0.25      0.09      0.13        34\n",
            "  reality-tv        0.41      0.29      0.34       192\n",
            "     romance        0.18      0.01      0.02       151\n",
            "      sci-fi        0.40      0.31      0.35       143\n",
            "       short        0.56      0.23      0.33      1045\n",
            "       sport        0.57      0.33      0.42        93\n",
            "   talk-show        0.30      0.16      0.21        81\n",
            "    thriller        0.36      0.15      0.21       309\n",
            "         war        0.29      0.10      0.15        20\n",
            "     western        0.75      0.79      0.77       200\n",
            "\n",
            "     accuracy                           0.57     10843\n",
            "    macro avg       0.38      0.28      0.30     10843\n",
            " weighted avg       0.54      0.57      0.53     10843\n",
            "\n"
          ]
        },
        {
          "output_type": "stream",
          "name": "stderr",
          "text": [
            "/usr/local/lib/python3.10/dist-packages/sklearn/metrics/_classification.py:1471: UndefinedMetricWarning: Precision and F-score are ill-defined and being set to 0.0 in labels with no predicted samples. Use `zero_division` parameter to control this behavior.\n",
            "  _warn_prf(average, modifier, msg_start, len(result))\n",
            "/usr/local/lib/python3.10/dist-packages/sklearn/metrics/_classification.py:1471: UndefinedMetricWarning: Precision and F-score are ill-defined and being set to 0.0 in labels with no predicted samples. Use `zero_division` parameter to control this behavior.\n",
            "  _warn_prf(average, modifier, msg_start, len(result))\n"
          ]
        }
      ]
    },
    {
      "cell_type": "code",
      "source": [
        "# Fit the VotingClassifier using scaled data for MultinomialNB\n",
        "voting_clf = VotingClassifier(estimators=[\n",
        "    ('nb', nb),\n",
        "    ('rf', rf),\n",
        "    ('mlp', mlp)], voting='soft')\n",
        "voting_clf.fit(X_train_scaled, y_train)  # Use scaled data here\n",
        "y_pred_voting = voting_clf.predict(X_val_scaled)  # Predict on scaled validation data\n",
        "\n",
        "print(\"Voting Classifier Validation Accuracy:\", accuracy_score(y_val, y_pred_voting))\n",
        "print(classification_report(y_val, y_pred_voting))\n"
      ],
      "metadata": {
        "colab": {
          "base_uri": "https://localhost:8080/"
        },
        "id": "TdcZxyGJLJru",
        "outputId": "35ddde58-6eb5-46d4-cf8c-b1ec6a162dd1"
      },
      "execution_count": 19,
      "outputs": [
        {
          "output_type": "stream",
          "name": "stdout",
          "text": [
            "Iteration 1, loss = 2.20304401\n",
            "Iteration 2, loss = 1.85614776\n",
            "Iteration 3, loss = 1.72183082\n",
            "Iteration 4, loss = 1.65453889\n",
            "Iteration 5, loss = 1.61850598\n",
            "Iteration 6, loss = 1.58800358\n",
            "Iteration 7, loss = 1.56768570\n",
            "Iteration 8, loss = 1.54604370\n",
            "Iteration 9, loss = 1.53365949\n",
            "Iteration 10, loss = 1.51415380\n"
          ]
        },
        {
          "output_type": "stream",
          "name": "stderr",
          "text": [
            "/usr/local/lib/python3.10/dist-packages/sklearn/neural_network/_multilayer_perceptron.py:691: ConvergenceWarning: Stochastic Optimizer: Maximum iterations (10) reached and the optimization hasn't converged yet.\n",
            "  warnings.warn(\n"
          ]
        },
        {
          "output_type": "stream",
          "name": "stdout",
          "text": [
            "Voting Classifier Validation Accuracy: 0.5290048879461403\n"
          ]
        },
        {
          "output_type": "stream",
          "name": "stderr",
          "text": [
            "/usr/local/lib/python3.10/dist-packages/sklearn/metrics/_classification.py:1471: UndefinedMetricWarning: Precision and F-score are ill-defined and being set to 0.0 in labels with no predicted samples. Use `zero_division` parameter to control this behavior.\n",
            "  _warn_prf(average, modifier, msg_start, len(result))\n",
            "/usr/local/lib/python3.10/dist-packages/sklearn/metrics/_classification.py:1471: UndefinedMetricWarning: Precision and F-score are ill-defined and being set to 0.0 in labels with no predicted samples. Use `zero_division` parameter to control this behavior.\n",
            "  _warn_prf(average, modifier, msg_start, len(result))\n"
          ]
        },
        {
          "output_type": "stream",
          "name": "stdout",
          "text": [
            "               precision    recall  f1-score   support\n",
            "\n",
            "      action        0.40      0.10      0.15       263\n",
            "       adult        0.67      0.05      0.10       112\n",
            "   adventure        0.25      0.01      0.01       139\n",
            "   animation        0.00      0.00      0.00       104\n",
            "   biography        0.00      0.00      0.00        61\n",
            "      comedy        0.43      0.47      0.45      1443\n",
            "       crime        0.00      0.00      0.00       107\n",
            " documentary        0.60      0.89      0.72      2659\n",
            "       drama        0.48      0.79      0.60      2697\n",
            "      family        0.00      0.00      0.00       150\n",
            "     fantasy        0.00      0.00      0.00        74\n",
            "   game-show        0.86      0.45      0.59        40\n",
            "     history        0.00      0.00      0.00        45\n",
            "      horror        0.57      0.43      0.49       431\n",
            "       music        0.59      0.31      0.40       144\n",
            "     musical        0.00      0.00      0.00        50\n",
            "     mystery        0.00      0.00      0.00        56\n",
            "        news        0.00      0.00      0.00        34\n",
            "  reality-tv        0.57      0.07      0.12       192\n",
            "     romance        0.00      0.00      0.00       151\n",
            "      sci-fi        0.61      0.08      0.14       143\n",
            "       short        0.67      0.11      0.18      1045\n",
            "       sport        0.50      0.08      0.13        93\n",
            "   talk-show        0.50      0.02      0.05        81\n",
            "    thriller        0.31      0.02      0.03       309\n",
            "         war        0.00      0.00      0.00        20\n",
            "     western        0.79      0.69      0.74       200\n",
            "\n",
            "     accuracy                           0.53     10843\n",
            "    macro avg       0.33      0.17      0.18     10843\n",
            " weighted avg       0.49      0.53      0.45     10843\n",
            "\n"
          ]
        },
        {
          "output_type": "stream",
          "name": "stderr",
          "text": [
            "/usr/local/lib/python3.10/dist-packages/sklearn/metrics/_classification.py:1471: UndefinedMetricWarning: Precision and F-score are ill-defined and being set to 0.0 in labels with no predicted samples. Use `zero_division` parameter to control this behavior.\n",
            "  _warn_prf(average, modifier, msg_start, len(result))\n"
          ]
        }
      ]
    },
    {
      "cell_type": "code",
      "source": [
        "# Use the trained model to make predictions on the test data\n",
        "X_test_predictions = voting_clf.predict(X_test_word2vec)\n",
        "test_data['Predicted_Genre'] = X_test_predictions\n",
        "\n",
        "# Save the test_data DataFrame with predicted genres to a CSV file\n",
        "test_data.to_csv('predicted_genres.csv', index=False)\n",
        "\n",
        "# Display the 'test_data' DataFrame with predicted genres\n",
        "print(test_data.head())\n"
      ],
      "metadata": {
        "colab": {
          "base_uri": "https://localhost:8080/"
        },
        "id": "9r_lHjblLbm6",
        "outputId": "a1eeb331-e823-4e97-d6bc-9155944c0c5d"
      },
      "execution_count": 29,
      "outputs": [
        {
          "output_type": "stream",
          "name": "stdout",
          "text": [
            "   Id                    Movie_title  \\\n",
            "0   1          Edgar's Lunch (1998)    \n",
            "1   2      La guerra de papá (1977)    \n",
            "2   3   Off the Beaten Track (2010)    \n",
            "3   4        Meu Amigo Hindu (2015)    \n",
            "4   5             Er nu zhai (1955)    \n",
            "\n",
            "                                         Description  \\\n",
            "0   L.R. Brane loves his life - his car, his apar...   \n",
            "1   Spain, March 1964: Quico is a very naughty ch...   \n",
            "2   One year in the life of Albin and his family ...   \n",
            "3   His father has died, he hasn't spoken with hi...   \n",
            "4   Before he was known internationally as a mart...   \n",
            "\n",
            "                                            New_text Predicted_Genre  \n",
            "0  brane loves life car apartment job especially ...          drama   \n",
            "1  spain march quico naughty child three belongin...          drama   \n",
            "2  one year life albin family shepherds north tra...    documentary   \n",
            "3  father died n't spoken brother years serious c...          drama   \n",
            "4  known internationally martial arts superstar b...          drama   \n"
          ]
        }
      ]
    },
    {
      "cell_type": "code",
      "source": [
        "# Training Data\n",
        "train_data = pd.read_csv('/kaggle/input/genre-classification-dataset-imdb/Genre Classification Dataset/train_data.txt', sep=':::', names=['Movie_title', 'Genre', 'Description'], engine='python')"
      ],
      "metadata": {
        "execution": {
          "iopub.status.busy": "2024-09-01T07:55:40.421526Z",
          "iopub.execute_input": "2024-09-01T07:55:40.422103Z",
          "iopub.status.idle": "2024-09-01T07:55:41.370356Z",
          "shell.execute_reply.started": "2024-09-01T07:55:40.422056Z",
          "shell.execute_reply": "2024-09-01T07:55:41.368988Z"
        },
        "trusted": true,
        "id": "SyjfM-dNHqx4"
      },
      "execution_count": null,
      "outputs": []
    },
    {
      "cell_type": "code",
      "source": [
        "train_data.describe()"
      ],
      "metadata": {
        "execution": {
          "iopub.status.busy": "2024-09-01T07:55:41.372139Z",
          "iopub.execute_input": "2024-09-01T07:55:41.372659Z",
          "iopub.status.idle": "2024-09-01T07:55:41.547541Z",
          "shell.execute_reply.started": "2024-09-01T07:55:41.37258Z",
          "shell.execute_reply": "2024-09-01T07:55:41.546278Z"
        },
        "trusted": true,
        "id": "jch1VGZ7Hqx5"
      },
      "execution_count": null,
      "outputs": []
    },
    {
      "cell_type": "code",
      "source": [
        "train_data.shape"
      ],
      "metadata": {
        "execution": {
          "iopub.status.busy": "2024-09-01T07:55:41.550211Z",
          "iopub.execute_input": "2024-09-01T07:55:41.55062Z",
          "iopub.status.idle": "2024-09-01T07:55:41.559264Z",
          "shell.execute_reply.started": "2024-09-01T07:55:41.550577Z",
          "shell.execute_reply": "2024-09-01T07:55:41.558098Z"
        },
        "trusted": true,
        "id": "9MlmraIeHqx5"
      },
      "execution_count": null,
      "outputs": []
    },
    {
      "cell_type": "code",
      "source": [
        "train_data.info()"
      ],
      "metadata": {
        "execution": {
          "iopub.status.busy": "2024-09-01T07:55:41.560672Z",
          "iopub.execute_input": "2024-09-01T07:55:41.561133Z",
          "iopub.status.idle": "2024-09-01T07:55:41.607143Z",
          "shell.execute_reply.started": "2024-09-01T07:55:41.56107Z",
          "shell.execute_reply": "2024-09-01T07:55:41.605766Z"
        },
        "trusted": true,
        "id": "vbZD5tW8Hqx5"
      },
      "execution_count": null,
      "outputs": []
    },
    {
      "cell_type": "code",
      "source": [
        "train_data.head(10)"
      ],
      "metadata": {
        "execution": {
          "iopub.status.busy": "2024-09-01T07:55:41.608482Z",
          "iopub.execute_input": "2024-09-01T07:55:41.608851Z",
          "iopub.status.idle": "2024-09-01T07:55:41.628261Z",
          "shell.execute_reply.started": "2024-09-01T07:55:41.608811Z",
          "shell.execute_reply": "2024-09-01T07:55:41.626804Z"
        },
        "trusted": true,
        "id": "bYVjM27ZHqx5"
      },
      "execution_count": null,
      "outputs": []
    },
    {
      "cell_type": "code",
      "source": [
        "train_data.isnull().sum()"
      ],
      "metadata": {
        "execution": {
          "iopub.status.busy": "2024-09-01T07:55:41.629808Z",
          "iopub.execute_input": "2024-09-01T07:55:41.630986Z",
          "iopub.status.idle": "2024-09-01T07:55:41.665257Z",
          "shell.execute_reply.started": "2024-09-01T07:55:41.630873Z",
          "shell.execute_reply": "2024-09-01T07:55:41.664024Z"
        },
        "trusted": true,
        "id": "xB8CC_9iHqx6"
      },
      "execution_count": null,
      "outputs": []
    },
    {
      "cell_type": "code",
      "source": [
        "# Test data\n",
        "\n",
        "test_path = \"/kaggle/input/genre-classification-dataset-imdb/Genre Classification Dataset/test_data.txt\"\n",
        "test_data = pd.read_csv(test_path, sep=':::', names=['Id', 'Movie_title', 'Description'], engine='python')\n",
        "test_data.head()"
      ],
      "metadata": {
        "execution": {
          "iopub.status.busy": "2024-09-01T07:55:41.666922Z",
          "iopub.execute_input": "2024-09-01T07:55:41.667767Z",
          "iopub.status.idle": "2024-09-01T07:55:42.553657Z",
          "shell.execute_reply.started": "2024-09-01T07:55:41.667689Z",
          "shell.execute_reply": "2024-09-01T07:55:42.552419Z"
        },
        "trusted": true,
        "id": "EtB0GDyBHqx6"
      },
      "execution_count": null,
      "outputs": []
    },
    {
      "cell_type": "markdown",
      "source": [
        "# Exploratory Data Analysis (EDA) & Data Visualization"
      ],
      "metadata": {
        "id": "U9HD8DLVHqx6"
      }
    },
    {
      "cell_type": "code",
      "source": [
        "# distribution of genres in training data\n",
        "plt.figure(figsize=(10,10))\n",
        "sns.countplot(data=train_data,order= train_data[\"Genre\"].value_counts().index,y=\"Genre\")\n",
        "plt.title(\"Genre Distribution\")"
      ],
      "metadata": {
        "execution": {
          "iopub.status.busy": "2024-09-01T07:55:42.555337Z",
          "iopub.execute_input": "2024-09-01T07:55:42.555714Z",
          "iopub.status.idle": "2024-09-01T07:55:43.295583Z",
          "shell.execute_reply.started": "2024-09-01T07:55:42.555665Z",
          "shell.execute_reply": "2024-09-01T07:55:43.294438Z"
        },
        "trusted": true,
        "id": "73HUwYLOHqx6"
      },
      "execution_count": null,
      "outputs": []
    },
    {
      "cell_type": "markdown",
      "source": [
        "# Data Preprocessing and Text Cleaning"
      ],
      "metadata": {
        "id": "Vw1MRhr_Hqx6"
      }
    },
    {
      "cell_type": "code",
      "source": [
        "stemmer = LancasterStemmer()\n",
        "stop_words=stopwords.words(\"english\")\n",
        "\n",
        "# Define the clean_text function\n",
        "def clean_text(text):\n",
        "    text = text.lower()  # Lowercase all characters\n",
        "    text = re.sub(r'@\\S+', '', text)  # Remove Twitter handles and email addresses\n",
        "    text = re.sub(r'http\\S+', '', text)  # Remove URLs\n",
        "    text = re.sub(r'pic.\\S+', '', text)\n",
        "    text = re.sub(r\"[^a-zA-Z+']\", ' ', text)  # Remove special characters\n",
        "    text = re.sub(r'\\s+[a-zA-Z]\\s+', ' ', text + ' ')  # Keep words with length > 1 only\n",
        "    text = \"\".join([i for i in text if i not in string.punctuation])\n",
        "    words = nltk.word_tokenize(text) #tokenize text\n",
        "    stopwords = nltk.corpus.stopwords.words('english')  # Remove stopwords\n",
        "    text = \" \".join([i for i in words if i not in stopwords and len(i) > 2])\n",
        "    text = re.sub(\"\\s[\\s]+\", \" \", text).strip()  # Remove multiple spaces\n",
        "    return text\n",
        "\n",
        "# Apply the clean_text function to the 'Description' column in the training and test data\n",
        "train_data['New_text'] = train_data['Description'].apply(clean_text)\n",
        "test_data['New_text'] = test_data['Description'].apply(clean_text)"
      ],
      "metadata": {
        "execution": {
          "iopub.status.busy": "2024-09-01T07:55:43.300166Z",
          "iopub.execute_input": "2024-09-01T07:55:43.300586Z",
          "iopub.status.idle": "2024-09-01T07:58:47.849617Z",
          "shell.execute_reply.started": "2024-09-01T07:55:43.300542Z",
          "shell.execute_reply": "2024-09-01T07:58:47.848342Z"
        },
        "trusted": true,
        "id": "xvrCszNXHqx6"
      },
      "execution_count": null,
      "outputs": []
    },
    {
      "cell_type": "code",
      "source": [
        "# # Calculate the length of cleaned text\n",
        "# train_data['length_Text_cleaning'] = train_data['Text_cleaning'].apply(len)\n",
        "# # Visualize the distribution of text lengths\n",
        "# plt.figure(figsize=(8, 7))\n",
        "# sns.histplot(data=train_data, x='length_Text_cleaning', bins=20, kde=True, color='blue')\n",
        "# plt.xlabel('Length', fontsize=14, fontweight='bold')\n",
        "# plt.ylabel('Frequency', fontsize=14, fontweight='bold')\n",
        "# plt.title('Distribution of Lengths', fontsize=16, fontweight='bold')\n",
        "# plt.show()"
      ],
      "metadata": {
        "execution": {
          "iopub.status.busy": "2024-09-01T07:58:47.851288Z",
          "iopub.execute_input": "2024-09-01T07:58:47.851762Z",
          "iopub.status.idle": "2024-09-01T07:58:47.857183Z",
          "shell.execute_reply.started": "2024-09-01T07:58:47.851721Z",
          "shell.execute_reply": "2024-09-01T07:58:47.855884Z"
        },
        "trusted": true,
        "id": "aaXFO4bSHqx7"
      },
      "execution_count": null,
      "outputs": []
    },
    {
      "cell_type": "code",
      "source": [
        "test_data.head()"
      ],
      "metadata": {
        "execution": {
          "iopub.status.busy": "2024-09-01T07:58:47.85878Z",
          "iopub.execute_input": "2024-09-01T07:58:47.859263Z",
          "iopub.status.idle": "2024-09-01T07:58:47.882572Z",
          "shell.execute_reply.started": "2024-09-01T07:58:47.859222Z",
          "shell.execute_reply": "2024-09-01T07:58:47.881037Z"
        },
        "trusted": true,
        "id": "7BOcpfBnHqx7"
      },
      "execution_count": null,
      "outputs": []
    },
    {
      "cell_type": "markdown",
      "source": [
        "Text Vectorization Using TF-IDF"
      ],
      "metadata": {
        "id": "bzWLaxmOHqx7"
      }
    },
    {
      "cell_type": "code",
      "source": [
        "tfidf = TfidfVectorizer()\n",
        "X_train = tfidf.fit_transform(train_data['New_text'])\n",
        "X_test = tfidf.transform(test_data['New_text'])"
      ],
      "metadata": {
        "execution": {
          "iopub.status.busy": "2024-09-01T07:58:47.884383Z",
          "iopub.execute_input": "2024-09-01T07:58:47.884919Z",
          "iopub.status.idle": "2024-09-01T07:58:57.671567Z",
          "shell.execute_reply.started": "2024-09-01T07:58:47.88486Z",
          "shell.execute_reply": "2024-09-01T07:58:57.67027Z"
        },
        "trusted": true,
        "id": "vFtH2tcUHqx7"
      },
      "execution_count": null,
      "outputs": []
    },
    {
      "cell_type": "markdown",
      "source": [
        "Data Splitting for training and validation"
      ],
      "metadata": {
        "id": "eU1U205WHqx7"
      }
    },
    {
      "cell_type": "code",
      "source": [
        "# training and validation sets\n",
        "X = X_train\n",
        "y = train_data['Genre']\n",
        "X_train, X_val, y_train, y_val = train_test_split(X, y, test_size=0.2, random_state=0)"
      ],
      "metadata": {
        "execution": {
          "iopub.status.busy": "2024-09-01T07:58:57.672853Z",
          "iopub.execute_input": "2024-09-01T07:58:57.673236Z",
          "iopub.status.idle": "2024-09-01T07:58:57.701177Z",
          "shell.execute_reply.started": "2024-09-01T07:58:57.673195Z",
          "shell.execute_reply": "2024-09-01T07:58:57.699895Z"
        },
        "trusted": true,
        "id": "ZTZL8u8wHqx7"
      },
      "execution_count": null,
      "outputs": []
    },
    {
      "cell_type": "markdown",
      "source": [
        "# Model Training & Evaluation"
      ],
      "metadata": {
        "id": "RP4uhjqHHqx7"
      }
    },
    {
      "cell_type": "markdown",
      "source": [
        "Multinomial Naive Bayes classifier"
      ],
      "metadata": {
        "id": "-hfR4tGXHqx7"
      }
    },
    {
      "cell_type": "code",
      "source": [
        "nb = MultinomialNB()\n",
        "nb.fit(X_train, y_train)"
      ],
      "metadata": {
        "execution": {
          "iopub.status.busy": "2024-09-01T07:58:57.702535Z",
          "iopub.execute_input": "2024-09-01T07:58:57.702952Z",
          "iopub.status.idle": "2024-09-01T07:58:58.292612Z",
          "shell.execute_reply.started": "2024-09-01T07:58:57.702873Z",
          "shell.execute_reply": "2024-09-01T07:58:58.291476Z"
        },
        "trusted": true,
        "id": "5J0k7RqzHqx7"
      },
      "execution_count": null,
      "outputs": []
    },
    {
      "cell_type": "code",
      "source": [
        "y_pred = nb.predict(X_val) # on validation set"
      ],
      "metadata": {
        "execution": {
          "iopub.status.busy": "2024-09-01T07:58:58.293999Z",
          "iopub.execute_input": "2024-09-01T07:58:58.294343Z",
          "iopub.status.idle": "2024-09-01T07:58:58.327229Z",
          "shell.execute_reply.started": "2024-09-01T07:58:58.294307Z",
          "shell.execute_reply": "2024-09-01T07:58:58.325836Z"
        },
        "trusted": true,
        "id": "6onsNcvvHqx7"
      },
      "execution_count": null,
      "outputs": []
    },
    {
      "cell_type": "code",
      "source": [
        "accuracy = accuracy_score(y_val, y_pred)\n",
        "print(\"Validation Accuracy:\", accuracy)"
      ],
      "metadata": {
        "execution": {
          "iopub.status.busy": "2024-09-01T07:58:58.328857Z",
          "iopub.execute_input": "2024-09-01T07:58:58.329369Z",
          "iopub.status.idle": "2024-09-01T07:58:58.353488Z",
          "shell.execute_reply.started": "2024-09-01T07:58:58.329312Z",
          "shell.execute_reply": "2024-09-01T07:58:58.352211Z"
        },
        "trusted": true,
        "id": "OM5Qwhp0Hqx7"
      },
      "execution_count": null,
      "outputs": []
    },
    {
      "cell_type": "code",
      "source": [
        "print(classification_report(y_val, y_pred))"
      ],
      "metadata": {
        "execution": {
          "iopub.status.busy": "2024-09-01T07:58:58.355075Z",
          "iopub.execute_input": "2024-09-01T07:58:58.356295Z",
          "iopub.status.idle": "2024-09-01T07:58:58.772475Z",
          "shell.execute_reply.started": "2024-09-01T07:58:58.356248Z",
          "shell.execute_reply": "2024-09-01T07:58:58.771376Z"
        },
        "trusted": true,
        "id": "aJqzZ1dwHqx7"
      },
      "execution_count": null,
      "outputs": []
    },
    {
      "cell_type": "markdown",
      "source": [
        "SVC Classifier"
      ],
      "metadata": {
        "id": "9IOsbfcXHqx7"
      }
    },
    {
      "cell_type": "code",
      "source": [
        "# svc = SVC()\n",
        "# svc.fit(X_train, y_train)"
      ],
      "metadata": {
        "execution": {
          "iopub.status.busy": "2024-09-01T07:58:58.773868Z",
          "iopub.execute_input": "2024-09-01T07:58:58.774275Z",
          "iopub.status.idle": "2024-09-01T07:58:58.779216Z",
          "shell.execute_reply.started": "2024-09-01T07:58:58.774235Z",
          "shell.execute_reply": "2024-09-01T07:58:58.778106Z"
        },
        "trusted": true,
        "id": "LPcGE-zVHqx7"
      },
      "execution_count": null,
      "outputs": []
    },
    {
      "cell_type": "code",
      "source": [
        "# y_pred = svc.predict(X_val) # on validation set"
      ],
      "metadata": {
        "execution": {
          "iopub.status.busy": "2024-09-01T07:58:58.780907Z",
          "iopub.execute_input": "2024-09-01T07:58:58.781438Z",
          "iopub.status.idle": "2024-09-01T07:58:58.791048Z",
          "shell.execute_reply.started": "2024-09-01T07:58:58.78138Z",
          "shell.execute_reply": "2024-09-01T07:58:58.78977Z"
        },
        "trusted": true,
        "id": "2tiCGfYWHqx7"
      },
      "execution_count": null,
      "outputs": []
    },
    {
      "cell_type": "code",
      "source": [
        "# svc.score(X_train, y_train)"
      ],
      "metadata": {
        "execution": {
          "iopub.status.busy": "2024-09-01T07:58:58.792756Z",
          "iopub.execute_input": "2024-09-01T07:58:58.793258Z",
          "iopub.status.idle": "2024-09-01T07:58:58.802035Z",
          "shell.execute_reply.started": "2024-09-01T07:58:58.793202Z",
          "shell.execute_reply": "2024-09-01T07:58:58.800767Z"
        },
        "trusted": true,
        "id": "l2xguzBBHqx7"
      },
      "execution_count": null,
      "outputs": []
    },
    {
      "cell_type": "code",
      "source": [
        "# print(classification_report(y_val, y_pred))"
      ],
      "metadata": {
        "execution": {
          "iopub.status.busy": "2024-09-01T07:58:58.803518Z",
          "iopub.execute_input": "2024-09-01T07:58:58.80397Z",
          "iopub.status.idle": "2024-09-01T07:58:58.814269Z",
          "shell.execute_reply.started": "2024-09-01T07:58:58.803903Z",
          "shell.execute_reply": "2024-09-01T07:58:58.813103Z"
        },
        "trusted": true,
        "id": "XMiZmslQHqx7"
      },
      "execution_count": null,
      "outputs": []
    },
    {
      "cell_type": "markdown",
      "source": [
        "# Predictions on Test Dataset"
      ],
      "metadata": {
        "id": "o8J7hU8gHqx8"
      }
    },
    {
      "cell_type": "code",
      "source": [
        "# Use the trained model to make predictions on the test data\n",
        "X_test_predictions = nb.predict(X_test)\n",
        "test_data['Predicted_Genre'] = X_test_predictions"
      ],
      "metadata": {
        "execution": {
          "iopub.status.busy": "2024-09-01T07:58:58.815734Z",
          "iopub.execute_input": "2024-09-01T07:58:58.81615Z",
          "iopub.status.idle": "2024-09-01T07:58:58.932637Z",
          "shell.execute_reply.started": "2024-09-01T07:58:58.816109Z",
          "shell.execute_reply": "2024-09-01T07:58:58.931359Z"
        },
        "trusted": true,
        "id": "as8C8DECHqx8"
      },
      "execution_count": null,
      "outputs": []
    },
    {
      "cell_type": "code",
      "source": [
        "# Save the test_data DataFrame with predicted genres to a CSV file\n",
        "test_data.to_csv('predicted_genres.csv', index=False)\n",
        "\n",
        "# Display the 'test_data' DataFrame with predicted genres\n",
        "print(test_data)"
      ],
      "metadata": {
        "execution": {
          "iopub.status.busy": "2024-09-01T07:58:58.933998Z",
          "iopub.execute_input": "2024-09-01T07:58:58.934425Z",
          "iopub.status.idle": "2024-09-01T07:59:01.798094Z",
          "shell.execute_reply.started": "2024-09-01T07:58:58.934383Z",
          "shell.execute_reply": "2024-09-01T07:59:01.796864Z"
        },
        "trusted": true,
        "id": "qzHKUKAzHqx8"
      },
      "execution_count": null,
      "outputs": []
    },
    {
      "cell_type": "code",
      "source": [],
      "metadata": {
        "id": "vLf8P53-Hqx8"
      },
      "execution_count": null,
      "outputs": []
    },
    {
      "cell_type": "code",
      "source": [],
      "metadata": {
        "id": "nvnWlmLrHqx8"
      },
      "execution_count": null,
      "outputs": []
    }
  ]
}