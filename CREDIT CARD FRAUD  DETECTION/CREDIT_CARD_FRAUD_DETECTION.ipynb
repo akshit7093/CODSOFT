{
  "metadata": {
    "kernelspec": {
      "language": "python",
      "display_name": "Python 3",
      "name": "python3"
    },
    "language_info": {
      "name": "python",
      "version": "3.10.13",
      "mimetype": "text/x-python",
      "codemirror_mode": {
        "name": "ipython",
        "version": 3
      },
      "pygments_lexer": "ipython3",
      "nbconvert_exporter": "python",
      "file_extension": ".py"
    },
    "kaggle": {
      "accelerator": "none",
      "dataSources": [
        {
          "sourceId": 23498,
          "sourceType": "datasetVersion",
          "datasetId": 310
        }
      ],
      "dockerImageVersionId": 30746,
      "isInternetEnabled": true,
      "language": "python",
      "sourceType": "notebook",
      "isGpuEnabled": false
    },
    "colab": {
      "name": "CREDIT CARD FRAUD  DETECTION",
      "provenance": [],
      "include_colab_link": true
    }
  },
  "nbformat_minor": 0,
  "nbformat": 4,
  "cells": [
    {
      "cell_type": "markdown",
      "metadata": {
        "id": "view-in-github",
        "colab_type": "text"
      },
      "source": [
        "<a href=\"https://colab.research.google.com/github/akshit7093/CANTILEVER/blob/main/CREDIT_CARD_FRAUD_DETECTION.ipynb\" target=\"_parent\"><img src=\"https://colab.research.google.com/assets/colab-badge.svg\" alt=\"Open In Colab\"/></a>"
      ]
    },
    {
      "source": [
        "\n",
        "# IMPORTANT: RUN THIS CELL IN ORDER TO IMPORT YOUR KAGGLE DATA SOURCES\n",
        "# TO THE CORRECT LOCATION (/kaggle/input) IN YOUR NOTEBOOK,\n",
        "# THEN FEEL FREE TO DELETE THIS CELL.\n",
        "# NOTE: THIS NOTEBOOK ENVIRONMENT DIFFERS FROM KAGGLE'S PYTHON\n",
        "# ENVIRONMENT SO THERE MAY BE MISSING LIBRARIES USED BY YOUR\n",
        "# NOTEBOOK.\n",
        "\n",
        "import os\n",
        "import sys\n",
        "from tempfile import NamedTemporaryFile\n",
        "from urllib.request import urlopen\n",
        "from urllib.parse import unquote, urlparse\n",
        "from urllib.error import HTTPError\n",
        "from zipfile import ZipFile\n",
        "import tarfile\n",
        "import shutil\n",
        "\n",
        "CHUNK_SIZE = 40960\n",
        "DATA_SOURCE_MAPPING = 'creditcardfraud:https%3A%2F%2Fstorage.googleapis.com%2Fkaggle-data-sets%2F310%2F23498%2Fbundle%2Farchive.zip%3FX-Goog-Algorithm%3DGOOG4-RSA-SHA256%26X-Goog-Credential%3Dgcp-kaggle-com%2540kaggle-161607.iam.gserviceaccount.com%252F20240813%252Fauto%252Fstorage%252Fgoog4_request%26X-Goog-Date%3D20240813T074800Z%26X-Goog-Expires%3D259200%26X-Goog-SignedHeaders%3Dhost%26X-Goog-Signature%3D02fb3be16ff7cf70a25afb15b44c50896ebc9369d4cf3c5d902044ef160723fcbad7574ab598912e3657f0a52c56a94ab803eaa5eceef67ba8bf034ec2b43c8d883789f6d83bd3d9e3208c5c546514fe70ef33b5eea1d2c134778204b11daf07d7e542b1db2e5c6ab771a284dd274bddc8d3371d22a4654ee7a2bff2d3f02bf20200060b86992f309f07a609080d73cd35a713e539c545520c7036ba6e30a2e3e6109f8b0b9d0cc8a6791bad4ae1495e3f6e70003222a52496a1cd827fb4aeda599f574edfdd1ec73f1b0774cbacc029f60df9f270152c34ee72eb1daec30291a897f0c5c382ff942a8f1edcf599b9bcc42907e34edcf2d2ec6a548980f18264'\n",
        "\n",
        "KAGGLE_INPUT_PATH='/kaggle/input'\n",
        "KAGGLE_WORKING_PATH='/kaggle/working'\n",
        "KAGGLE_SYMLINK='kaggle'\n",
        "\n",
        "!umount /kaggle/input/ 2> /dev/null\n",
        "shutil.rmtree('/kaggle/input', ignore_errors=True)\n",
        "os.makedirs(KAGGLE_INPUT_PATH, 0o777, exist_ok=True)\n",
        "os.makedirs(KAGGLE_WORKING_PATH, 0o777, exist_ok=True)\n",
        "\n",
        "try:\n",
        "  os.symlink(KAGGLE_INPUT_PATH, os.path.join(\"..\", 'input'), target_is_directory=True)\n",
        "except FileExistsError:\n",
        "  pass\n",
        "try:\n",
        "  os.symlink(KAGGLE_WORKING_PATH, os.path.join(\"..\", 'working'), target_is_directory=True)\n",
        "except FileExistsError:\n",
        "  pass\n",
        "\n",
        "for data_source_mapping in DATA_SOURCE_MAPPING.split(','):\n",
        "    directory, download_url_encoded = data_source_mapping.split(':')\n",
        "    download_url = unquote(download_url_encoded)\n",
        "    filename = urlparse(download_url).path\n",
        "    destination_path = os.path.join(KAGGLE_INPUT_PATH, directory)\n",
        "    try:\n",
        "        with urlopen(download_url) as fileres, NamedTemporaryFile() as tfile:\n",
        "            total_length = fileres.headers['content-length']\n",
        "            print(f'Downloading {directory}, {total_length} bytes compressed')\n",
        "            dl = 0\n",
        "            data = fileres.read(CHUNK_SIZE)\n",
        "            while len(data) > 0:\n",
        "                dl += len(data)\n",
        "                tfile.write(data)\n",
        "                done = int(50 * dl / int(total_length))\n",
        "                sys.stdout.write(f\"\\r[{'=' * done}{' ' * (50-done)}] {dl} bytes downloaded\")\n",
        "                sys.stdout.flush()\n",
        "                data = fileres.read(CHUNK_SIZE)\n",
        "            if filename.endswith('.zip'):\n",
        "              with ZipFile(tfile) as zfile:\n",
        "                zfile.extractall(destination_path)\n",
        "            else:\n",
        "              with tarfile.open(tfile.name) as tarfile:\n",
        "                tarfile.extractall(destination_path)\n",
        "            print(f'\\nDownloaded and uncompressed: {directory}')\n",
        "    except HTTPError as e:\n",
        "        print(f'Failed to load (likely expired) {download_url} to path {destination_path}')\n",
        "        continue\n",
        "    except OSError as e:\n",
        "        print(f'Failed to load {download_url} to path {destination_path}')\n",
        "        continue\n",
        "\n",
        "print('Data source import complete.')\n"
      ],
      "metadata": {
        "id": "yqiojxeDtVRI",
        "outputId": "46ddc95a-58dc-4aff-b1d2-6bfa7fe4598b",
        "colab": {
          "base_uri": "https://localhost:8080/"
        }
      },
      "cell_type": "code",
      "outputs": [
        {
          "output_type": "stream",
          "name": "stdout",
          "text": [
            "Downloading creditcardfraud, 69155672 bytes compressed\n",
            "[==================================================] 69155672 bytes downloaded\n",
            "Downloaded and uncompressed: creditcardfraud\n",
            "Data source import complete.\n"
          ]
        }
      ],
      "execution_count": 1
    },
    {
      "cell_type": "code",
      "source": [
        "# Credit Card Fraud Detection Project\n",
        "\n",
        "# Import necessary libraries\n",
        "import numpy as np\n",
        "import pandas as pd\n",
        "import matplotlib.pyplot as plt\n",
        "import seaborn as sns\n",
        "from sklearn.model_selection import train_test_split, GridSearchCV\n",
        "from sklearn.preprocessing import StandardScaler\n",
        "from sklearn.linear_model import LogisticRegression\n",
        "from sklearn.ensemble import RandomForestClassifier, GradientBoostingClassifier\n",
        "from sklearn.svm import SVC\n",
        "from sklearn.metrics import confusion_matrix, classification_report, roc_auc_score\n",
        "from imblearn.over_sampling import SMOTE\n",
        "from imblearn.under_sampling import RandomUnderSampler\n",
        "from imblearn.pipeline import Pipeline\n",
        "import xgboost as xgb\n",
        "from sklearn.decomposition import PCA"
      ],
      "metadata": {
        "id": "PfIAQ8eWtom3"
      },
      "execution_count": 2,
      "outputs": []
    },
    {
      "cell_type": "code",
      "source": [
        "# Load the data\n",
        "# Note: You'll need to upload your dataset to Colab or use a URL to load it\n",
        "data = pd.read_csv('/kaggle/input/creditcardfraud/creditcard.csv')\n",
        "\n",
        "# Display basic information about the dataset\n",
        "print(data.info())\n",
        "print(data.describe())\n",
        "\n",
        "# Check for missing values\n",
        "print(data.isnull().sum())"
      ],
      "metadata": {
        "id": "F-texwN1tsOE",
        "outputId": "a428410f-ae00-4e8a-9a8c-262f7f7a9e5a",
        "colab": {
          "base_uri": "https://localhost:8080/"
        }
      },
      "execution_count": 3,
      "outputs": [
        {
          "output_type": "stream",
          "name": "stdout",
          "text": [
            "<class 'pandas.core.frame.DataFrame'>\n",
            "RangeIndex: 284807 entries, 0 to 284806\n",
            "Data columns (total 31 columns):\n",
            " #   Column  Non-Null Count   Dtype  \n",
            "---  ------  --------------   -----  \n",
            " 0   Time    284807 non-null  float64\n",
            " 1   V1      284807 non-null  float64\n",
            " 2   V2      284807 non-null  float64\n",
            " 3   V3      284807 non-null  float64\n",
            " 4   V4      284807 non-null  float64\n",
            " 5   V5      284807 non-null  float64\n",
            " 6   V6      284807 non-null  float64\n",
            " 7   V7      284807 non-null  float64\n",
            " 8   V8      284807 non-null  float64\n",
            " 9   V9      284807 non-null  float64\n",
            " 10  V10     284807 non-null  float64\n",
            " 11  V11     284807 non-null  float64\n",
            " 12  V12     284807 non-null  float64\n",
            " 13  V13     284807 non-null  float64\n",
            " 14  V14     284807 non-null  float64\n",
            " 15  V15     284807 non-null  float64\n",
            " 16  V16     284807 non-null  float64\n",
            " 17  V17     284807 non-null  float64\n",
            " 18  V18     284807 non-null  float64\n",
            " 19  V19     284807 non-null  float64\n",
            " 20  V20     284807 non-null  float64\n",
            " 21  V21     284807 non-null  float64\n",
            " 22  V22     284807 non-null  float64\n",
            " 23  V23     284807 non-null  float64\n",
            " 24  V24     284807 non-null  float64\n",
            " 25  V25     284807 non-null  float64\n",
            " 26  V26     284807 non-null  float64\n",
            " 27  V27     284807 non-null  float64\n",
            " 28  V28     284807 non-null  float64\n",
            " 29  Amount  284807 non-null  float64\n",
            " 30  Class   284807 non-null  int64  \n",
            "dtypes: float64(30), int64(1)\n",
            "memory usage: 67.4 MB\n",
            "None\n",
            "                Time            V1            V2            V3            V4  \\\n",
            "count  284807.000000  2.848070e+05  2.848070e+05  2.848070e+05  2.848070e+05   \n",
            "mean    94813.859575  1.168375e-15  3.416908e-16 -1.379537e-15  2.074095e-15   \n",
            "std     47488.145955  1.958696e+00  1.651309e+00  1.516255e+00  1.415869e+00   \n",
            "min         0.000000 -5.640751e+01 -7.271573e+01 -4.832559e+01 -5.683171e+00   \n",
            "25%     54201.500000 -9.203734e-01 -5.985499e-01 -8.903648e-01 -8.486401e-01   \n",
            "50%     84692.000000  1.810880e-02  6.548556e-02  1.798463e-01 -1.984653e-02   \n",
            "75%    139320.500000  1.315642e+00  8.037239e-01  1.027196e+00  7.433413e-01   \n",
            "max    172792.000000  2.454930e+00  2.205773e+01  9.382558e+00  1.687534e+01   \n",
            "\n",
            "                 V5            V6            V7            V8            V9  \\\n",
            "count  2.848070e+05  2.848070e+05  2.848070e+05  2.848070e+05  2.848070e+05   \n",
            "mean   9.604066e-16  1.487313e-15 -5.556467e-16  1.213481e-16 -2.406331e-15   \n",
            "std    1.380247e+00  1.332271e+00  1.237094e+00  1.194353e+00  1.098632e+00   \n",
            "min   -1.137433e+02 -2.616051e+01 -4.355724e+01 -7.321672e+01 -1.343407e+01   \n",
            "25%   -6.915971e-01 -7.682956e-01 -5.540759e-01 -2.086297e-01 -6.430976e-01   \n",
            "50%   -5.433583e-02 -2.741871e-01  4.010308e-02  2.235804e-02 -5.142873e-02   \n",
            "75%    6.119264e-01  3.985649e-01  5.704361e-01  3.273459e-01  5.971390e-01   \n",
            "max    3.480167e+01  7.330163e+01  1.205895e+02  2.000721e+01  1.559499e+01   \n",
            "\n",
            "       ...           V21           V22           V23           V24  \\\n",
            "count  ...  2.848070e+05  2.848070e+05  2.848070e+05  2.848070e+05   \n",
            "mean   ...  1.654067e-16 -3.568593e-16  2.578648e-16  4.473266e-15   \n",
            "std    ...  7.345240e-01  7.257016e-01  6.244603e-01  6.056471e-01   \n",
            "min    ... -3.483038e+01 -1.093314e+01 -4.480774e+01 -2.836627e+00   \n",
            "25%    ... -2.283949e-01 -5.423504e-01 -1.618463e-01 -3.545861e-01   \n",
            "50%    ... -2.945017e-02  6.781943e-03 -1.119293e-02  4.097606e-02   \n",
            "75%    ...  1.863772e-01  5.285536e-01  1.476421e-01  4.395266e-01   \n",
            "max    ...  2.720284e+01  1.050309e+01  2.252841e+01  4.584549e+00   \n",
            "\n",
            "                V25           V26           V27           V28         Amount  \\\n",
            "count  2.848070e+05  2.848070e+05  2.848070e+05  2.848070e+05  284807.000000   \n",
            "mean   5.340915e-16  1.683437e-15 -3.660091e-16 -1.227390e-16      88.349619   \n",
            "std    5.212781e-01  4.822270e-01  4.036325e-01  3.300833e-01     250.120109   \n",
            "min   -1.029540e+01 -2.604551e+00 -2.256568e+01 -1.543008e+01       0.000000   \n",
            "25%   -3.171451e-01 -3.269839e-01 -7.083953e-02 -5.295979e-02       5.600000   \n",
            "50%    1.659350e-02 -5.213911e-02  1.342146e-03  1.124383e-02      22.000000   \n",
            "75%    3.507156e-01  2.409522e-01  9.104512e-02  7.827995e-02      77.165000   \n",
            "max    7.519589e+00  3.517346e+00  3.161220e+01  3.384781e+01   25691.160000   \n",
            "\n",
            "               Class  \n",
            "count  284807.000000  \n",
            "mean        0.001727  \n",
            "std         0.041527  \n",
            "min         0.000000  \n",
            "25%         0.000000  \n",
            "50%         0.000000  \n",
            "75%         0.000000  \n",
            "max         1.000000  \n",
            "\n",
            "[8 rows x 31 columns]\n",
            "Time      0\n",
            "V1        0\n",
            "V2        0\n",
            "V3        0\n",
            "V4        0\n",
            "V5        0\n",
            "V6        0\n",
            "V7        0\n",
            "V8        0\n",
            "V9        0\n",
            "V10       0\n",
            "V11       0\n",
            "V12       0\n",
            "V13       0\n",
            "V14       0\n",
            "V15       0\n",
            "V16       0\n",
            "V17       0\n",
            "V18       0\n",
            "V19       0\n",
            "V20       0\n",
            "V21       0\n",
            "V22       0\n",
            "V23       0\n",
            "V24       0\n",
            "V25       0\n",
            "V26       0\n",
            "V27       0\n",
            "V28       0\n",
            "Amount    0\n",
            "Class     0\n",
            "dtype: int64\n"
          ]
        }
      ]
    },
    {
      "cell_type": "code",
      "source": [
        "# Visualize the distribution of fraudulent and non-fraudulent transactions\n",
        "plt.figure(figsize=(8, 6))\n",
        "sns.countplot(x='Class', data=data)\n",
        "plt.title('Distribution of Fraudulent and Non-Fraudulent Transactions')\n",
        "plt.show()"
      ],
      "metadata": {
        "id": "mjG4GWaNtzQz",
        "outputId": "79e42c87-2dc7-4933-cd75-4a5e4d26e026",
        "colab": {
          "base_uri": "https://localhost:8080/",
          "height": 564
        }
      },
      "execution_count": 4,
      "outputs": [
        {
          "output_type": "display_data",
          "data": {
            "text/plain": [
              "<Figure size 800x600 with 1 Axes>"
            ],
            "image/png": "[encoded data removed]"
          },
          "metadata": {}
        }
      ]
    },
    {
      "cell_type": "code",
      "source": [
        "# Separate features and target variable\n",
        "X = data.drop('Class', axis=1)\n",
        "y = data['Class']\n",
        "\n",
        "# Split the data into training and testing sets\n",
        "X_train, X_test, y_train, y_test = train_test_split(X, y, test_size=0.2, random_state=42, stratify=y)\n",
        "\n",
        "# Feature scaling\n",
        "scaler = StandardScaler()\n",
        "X_train_scaled = scaler.fit_transform(X_train)\n",
        "X_test_scaled = scaler.transform(X_test)\n",
        "\n",
        "# Function to evaluate and print model performance\n",
        "def evaluate_model(model, X_test, y_test):\n",
        "    y_pred = model.predict(X_test)\n",
        "    print(confusion_matrix(y_test, y_pred))\n",
        "    print(classification_report(y_test, y_pred))\n",
        "    print(f\"ROC AUC Score: {roc_auc_score(y_test, model.predict_proba(X_test)[:, 1])}\")\n",
        "\n",
        "# Create a pipeline with SMOTE oversampling and Random Undersampling\n",
        "smote = SMOTE(sampling_strategy=0.1, random_state=42)\n",
        "rus = RandomUnderSampler(sampling_strategy=0.5, random_state=42)\n",
        "pipeline = Pipeline([('smote', smote), ('rus', rus)])\n",
        "\n",
        "# Apply the resampling pipeline\n",
        "X_train_resampled, y_train_resampled = pipeline.fit_resample(X_train_scaled, y_train)\n",
        "\n",
        "# Feature engineering: Principal Component Analysis\n",
        "pca = PCA(n_components=0.95)\n",
        "X_train_pca = pca.fit_transform(X_train_resampled)\n",
        "X_test_pca = pca.transform(X_test_scaled)"
      ],
      "metadata": {
        "id": "Ml9SAtz5t3HV"
      },
      "execution_count": 5,
      "outputs": []
    },
    {
      "cell_type": "code",
      "source": [
        "# Model 1: Logistic Regression\n",
        "lr_model = LogisticRegression(random_state=42, max_iter=1000)\n",
        "lr_model.fit(X_train_pca, y_train_resampled)\n",
        "print(\"Logistic Regression Results:\")\n",
        "evaluate_model(lr_model, X_test_pca, y_test)"
      ],
      "metadata": {
        "id": "KVFYSaNMt6St",
        "outputId": "8079a780-6ac4-4617-bb85-264fe94a4170",
        "colab": {
          "base_uri": "https://localhost:8080/"
        }
      },
      "execution_count": 6,
      "outputs": [
        {
          "output_type": "stream",
          "name": "stdout",
          "text": [
            "Logistic Regression Results:\n",
            "[[56057   807]\n",
            " [   10    88]]\n",
            "              precision    recall  f1-score   support\n",
            "\n",
            "           0       1.00      0.99      0.99     56864\n",
            "           1       0.10      0.90      0.18        98\n",
            "\n",
            "    accuracy                           0.99     56962\n",
            "   macro avg       0.55      0.94      0.59     56962\n",
            "weighted avg       1.00      0.99      0.99     56962\n",
            "\n",
            "ROC AUC Score: 0.9786161826857923\n"
          ]
        }
      ]
    },
    {
      "cell_type": "code",
      "source": [
        "# Model 2: Random Forest\n",
        "rf_model = RandomForestClassifier(random_state=42)\n",
        "rf_model.fit(X_train_pca, y_train_resampled)\n",
        "print(\"\\nRandom Forest Results:\")\n",
        "evaluate_model(rf_model, X_test_pca, y_test)"
      ],
      "metadata": {
        "id": "SPyCDsttt9wT",
        "outputId": "e69a005c-35c8-4b59-e1c5-f63d8540c7e4",
        "colab": {
          "base_uri": "https://localhost:8080/"
        }
      },
      "execution_count": 7,
      "outputs": [
        {
          "output_type": "stream",
          "name": "stdout",
          "text": [
            "\n",
            "Random Forest Results:\n",
            "[[56802    62]\n",
            " [   10    88]]\n",
            "              precision    recall  f1-score   support\n",
            "\n",
            "           0       1.00      1.00      1.00     56864\n",
            "           1       0.59      0.90      0.71        98\n",
            "\n",
            "    accuracy                           1.00     56962\n",
            "   macro avg       0.79      0.95      0.85     56962\n",
            "weighted avg       1.00      1.00      1.00     56962\n",
            "\n",
            "ROC AUC Score: 0.9719730499121427\n"
          ]
        }
      ]
    },
    {
      "cell_type": "code",
      "source": [
        "# Model 3: Gradient Boosting\n",
        "gb_model = GradientBoostingClassifier(random_state=42)\n",
        "gb_model.fit(X_train_pca, y_train_resampled)\n",
        "print(\"\\nGradient Boosting Results:\")\n",
        "evaluate_model(gb_model, X_test_pca, y_test)"
      ],
      "metadata": {
        "id": "X8d9QHMjuAC3",
        "outputId": "8ca3f71e-a5bc-4dfa-ba1f-522c2180751c",
        "colab": {
          "base_uri": "https://localhost:8080/"
        }
      },
      "execution_count": 8,
      "outputs": [
        {
          "output_type": "stream",
          "name": "stdout",
          "text": [
            "\n",
            "Gradient Boosting Results:\n",
            "[[56357   507]\n",
            " [    9    89]]\n",
            "              precision    recall  f1-score   support\n",
            "\n",
            "           0       1.00      0.99      1.00     56864\n",
            "           1       0.15      0.91      0.26        98\n",
            "\n",
            "    accuracy                           0.99     56962\n",
            "   macro avg       0.57      0.95      0.63     56962\n",
            "weighted avg       1.00      0.99      0.99     56962\n",
            "\n",
            "ROC AUC Score: 0.9865735862437265\n"
          ]
        }
      ]
    },
    {
      "cell_type": "code",
      "source": [
        "# Model 4: XGBoost\n",
        "xgb_model = xgb.XGBClassifier(random_state=42)\n",
        "xgb_model.fit(X_train_pca, y_train_resampled)\n",
        "print(\"\\nXGBoost Results:\")\n",
        "evaluate_model(xgb_model, X_test_pca, y_test)"
      ],
      "metadata": {
        "id": "eLRuOPtSuCZc",
        "outputId": "3285b2de-08df-4089-cbb9-75a6d831c8ad",
        "colab": {
          "base_uri": "https://localhost:8080/"
        }
      },
      "execution_count": 9,
      "outputs": [
        {
          "output_type": "stream",
          "name": "stdout",
          "text": [
            "\n",
            "XGBoost Results:\n",
            "[[56752   112]\n",
            " [   12    86]]\n",
            "              precision    recall  f1-score   support\n",
            "\n",
            "           0       1.00      1.00      1.00     56864\n",
            "           1       0.43      0.88      0.58        98\n",
            "\n",
            "    accuracy                           1.00     56962\n",
            "   macro avg       0.72      0.94      0.79     56962\n",
            "weighted avg       1.00      1.00      1.00     56962\n",
            "\n",
            "ROC AUC Score: 0.9888290572278433\n"
          ]
        }
      ]
    },
    {
      "cell_type": "code",
      "source": [
        "# Model 5: Support Vector Machine\n",
        "svm_model = SVC(probability=True, random_state=42)\n",
        "svm_model.fit(X_train_pca, y_train_resampled)\n",
        "print(\"\\nSupport Vector Machine Results:\")\n",
        "evaluate_model(svm_model, X_test_pca, y_test)"
      ],
      "metadata": {
        "id": "-GBuAAM2uEgc",
        "outputId": "443f61f5-bdd7-47a3-c42c-26061e50d0a8",
        "colab": {
          "base_uri": "https://localhost:8080/"
        }
      },
      "execution_count": 10,
      "outputs": [
        {
          "output_type": "stream",
          "name": "stdout",
          "text": [
            "\n",
            "Support Vector Machine Results:\n",
            "[[56463   401]\n",
            " [   10    88]]\n",
            "              precision    recall  f1-score   support\n",
            "\n",
            "           0       1.00      0.99      1.00     56864\n",
            "           1       0.18      0.90      0.30        98\n",
            "\n",
            "    accuracy                           0.99     56962\n",
            "   macro avg       0.59      0.95      0.65     56962\n",
            "weighted avg       1.00      0.99      1.00     56962\n",
            "\n",
            "ROC AUC Score: 0.978278642633193\n"
          ]
        }
      ]
    },
    {
      "cell_type": "code",
      "source": [
        "# Hyperparameter tuning for the best performing model (assuming XGBoost)\n",
        "param_grid = {\n",
        "    'max_depth': [3, 5, 7],\n",
        "    'learning_rate': [0.01, 0.1, 0.3],\n",
        "    'n_estimators': [100, 200, 300],\n",
        "    'min_child_weight': [1, 3, 5]\n",
        "}\n",
        "\n",
        "grid_search = GridSearchCV(xgb_model, param_grid, cv=3, scoring='roc_auc', n_jobs=-1)\n",
        "grid_search.fit(X_train_pca, y_train_resampled)\n",
        "\n",
        "print(\"\\nBest parameters:\", grid_search.best_params_)\n",
        "print(\"Best ROC AUC Score:\", grid_search.best_score_)\n"
      ],
      "metadata": {
        "id": "gDPd7_m_uHL8",
        "outputId": "1dc7c2d0-dc55-4900-feeb-031551364c23",
        "colab": {
          "base_uri": "https://localhost:8080/"
        }
      },
      "execution_count": 11,
      "outputs": [
        {
          "output_type": "stream",
          "name": "stdout",
          "text": [
            "\n",
            "Best parameters: {'learning_rate': 0.3, 'max_depth': 5, 'min_child_weight': 1, 'n_estimators': 300}\n",
            "Best ROC AUC Score: 0.9998820353309473\n"
          ]
        }
      ]
    },
    {
      "cell_type": "code",
      "source": [
        "#Evaluate the best model\n",
        "best_model = grid_search.best_estimator_\n",
        "print(\"\\nBest Model Results:\")\n",
        "evaluate_model(best_model, X_test_pca, y_test)\n",
        "\n",
        "# Feature importance plot\n",
        "feature_importance = best_model.feature_importances_\n",
        "sorted_idx = np.argsort(feature_importance)\n",
        "pos = np.arange(sorted_idx.shape[0]) + .5\n",
        "\n",
        "plt.figure(figsize=(12, 6))\n",
        "plt.barh(pos, feature_importance[sorted_idx], align='center')\n",
        "plt.yticks(pos, np.array(X.columns)[sorted_idx])\n",
        "plt.xlabel('Feature Importance')\n",
        "plt.title('Feature Importance (XGBoost)')\n",
        "plt.tight_layout()\n",
        "plt.show()\n",
        "\n",
        "# ROC Curve\n",
        "from sklearn.metrics import roc_curve\n",
        "\n",
        "y_pred_proba = best_model.predict_proba(X_test_pca)[:, 1]\n",
        "fpr, tpr, _ = roc_curve(y_test, y_pred_proba)\n",
        "\n",
        "plt.figure(figsize=(8, 6))\n",
        "plt.plot(fpr, tpr, label=f'ROC Curve (AUC = {roc_auc_score(y_test, y_pred_proba):.2f})')\n",
        "plt.plot([0, 1], [0, 1], linestyle='--', label='Random Classifier')\n",
        "plt.xlabel('False Positive Rate')\n",
        "plt.ylabel('True Positive Rate')\n",
        "plt.title('Receiver Operating Characteristic (ROC) Curve')\n",
        "plt.legend()\n",
        "plt.show()"
      ],
      "metadata": {
        "id": "FcRadigDuMJO",
        "outputId": "ecad4086-c36f-4625-8f13-6328efaac9d5",
        "colab": {
          "base_uri": "https://localhost:8080/",
          "height": 1000
        }
      },
      "execution_count": 13,
      "outputs": [
        {
          "output_type": "stream",
          "name": "stdout",
          "text": [
            "\n",
            "Best Model Results:\n",
            "[[56764   100]\n",
            " [   12    86]]\n",
            "              precision    recall  f1-score   support\n",
            "\n",
            "           0       1.00      1.00      1.00     56864\n",
            "           1       0.46      0.88      0.61        98\n",
            "\n",
            "    accuracy                           1.00     56962\n",
            "   macro avg       0.73      0.94      0.80     56962\n",
            "weighted avg       1.00      1.00      1.00     56962\n",
            "\n",
            "ROC AUC Score: 0.9797772056205712\n"
          ]
        },
        {
          "output_type": "display_data",
          "data": {
            "text/plain": [
              "<Figure size 1200x600 with 1 Axes>"
            ],
            "image/png": "[encoded data removed]"
          },
          "metadata": {}
        },
        {
          "output_type": "display_data",
          "data": {
            "text/plain": [
              "<Figure size 800x600 with 1 Axes>"
            ],
            "image/png": "[encoded data removed]"
          },
          "metadata": {}
        }
      ]
    },
    {
      "cell_type": "code",
      "source": [
        "\n",
        "sample_transactions = np.array([\n",
        "    # Transaction 1: Normal transaction\n",
        "    [0, -1.3598071336738, -0.0727811733098497, 2.53634673796914, 1.37815522427443, -0.338320769942518, 0.462387777762292, 0.239598554061257, 0.0986979012610507, 0.363786969611213, 0.0907941719789316, -0.551599533260813, -0.617800855762348, -0.991389847235408, -0.311169353699879, 1.46817697209427, -0.470400525259478, 0.207971241929242, 0.0257905801985591, 0.403992960255733, 0.251412098239705, -0.018306777944153, 0.277837575558899, -0.110473910188767, 0.0669280749146731, 0.128539358273528, -0.189114843888824, 0.133558376740387, -0.0210530534538215, 149.62],\n",
        "    # Transaction 2: Fraudulent transaction (based on known patterns)\n",
        "    [0, -3.113832, 1.191857, 2.500886, -0.056544, 2.018401, 0.498699, -0.935285, -0.503599, 0.680721, 1.374610, 1.383845, 0.482776, 0.949661, 0.428627, -2.311378, 0.031388, -0.544293, -1.250670, 0.201329, 0.254299, -0.069127, 0.524380, 0.247470, 0.771679, 0.909412, -0.689281, -0.327642, -0.139097, 1000.00],\n",
        "    # Transaction 3: Another normal transaction\n",
        "    [0, 1.19185711, 0.26615071, -0.16648011, 0.44854700, -0.01513945, -0.07270997, -0.05144081, 0.08182122, -0.07880298, 0.08544611, -0.16062672, 0.06123100, -0.00911208, -0.05620738, 0.00669714, -0.02256305, -0.03314633, -0.01148607, -0.05800173, -0.02354772, -0.02256568, -0.03314633, -0.01148607, -0.05800173, -0.02354772, -0.02256568, 0.01226967, 0.01273069, 50.00]\n",
        "])\n",
        "\n",
        "# Preprocess the sample transactions\n",
        "sample_transactions_scaled = scaler.transform(sample_transactions)\n",
        "sample_transactions_pca = pca.transform(sample_transactions_scaled)\n",
        "\n",
        "# Make predictions\n",
        "predictions = best_model.predict(sample_transactions_pca)\n",
        "probabilities = best_model.predict_proba(sample_transactions_pca)[:, 1]\n",
        "\n",
        "# Print results\n",
        "print(\"Fraud Detection Test Results:\")\n",
        "for i, (pred, prob) in enumerate(zip(predictions, probabilities)):\n",
        "    print(f\"Transaction {i+1}: {'Fraudulent' if pred == 1 else 'Legitimate'} (Probability of fraud: {prob:.4f})\")\n",
        "\n",
        "# Additional test: Check model's performance on a subset of the test data\n",
        "num_test_samples = 1000\n",
        "X_test_subset = X_test_pca[:num_test_samples]\n",
        "y_test_subset = y_test[:num_test_samples]\n",
        "\n",
        "y_pred_subset = best_model.predict(X_test_subset)\n",
        "print(\"\\nModel performance on test subset:\")\n",
        "print(classification_report(y_test_subset, y_pred_subset))\n",
        "print(f\"ROC AUC Score: {roc_auc_score(y_test_subset, best_model.predict_proba(X_test_subset)[:, 1])}\")"
      ],
      "metadata": {
        "execution": {
          "iopub.status.busy": "2024-08-13T07:44:01.355897Z",
          "iopub.execute_input": "2024-08-13T07:44:01.357225Z",
          "iopub.status.idle": "2024-08-13T07:44:01.404714Z",
          "shell.execute_reply.started": "2024-08-13T07:44:01.357185Z",
          "shell.execute_reply": "2024-08-13T07:44:01.403353Z"
        },
        "trusted": true,
        "id": "0uASJ7y6tVRN",
        "outputId": "86c9ca34-d110-488e-cbe0-9348ae938def",
        "colab": {
          "base_uri": "https://localhost:8080/"
        }
      },
      "execution_count": 14,
      "outputs": [
        {
          "output_type": "stream",
          "name": "stdout",
          "text": [
            "Fraud Detection Test Results:\n",
            "Transaction 1: Legitimate (Probability of fraud: 0.0000)\n",
            "Transaction 2: Legitimate (Probability of fraud: 0.0000)\n",
            "Transaction 3: Legitimate (Probability of fraud: 0.0001)\n",
            "\n",
            "Model performance on test subset:\n",
            "              precision    recall  f1-score   support\n",
            "\n",
            "           0       1.00      1.00      1.00       999\n",
            "           1       0.33      1.00      0.50         1\n",
            "\n",
            "    accuracy                           1.00      1000\n",
            "   macro avg       0.67      1.00      0.75      1000\n",
            "weighted avg       1.00      1.00      1.00      1000\n",
            "\n",
            "ROC AUC Score: 1.0\n"
          ]
        },
        {
          "output_type": "stream",
          "name": "stderr",
          "text": [
            "/usr/local/lib/python3.10/dist-packages/sklearn/base.py:465: UserWarning: X does not have valid feature names, but StandardScaler was fitted with feature names\n",
            "  warnings.warn(\n"
          ]
        }
      ]
    },
    {
      "cell_type": "code",
      "source": [],
      "metadata": {
        "id": "tCUQjKJetVRN"
      },
      "execution_count": null,
      "outputs": []
    }
  ]
}